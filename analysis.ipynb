{
 "metadata": {
  "language_info": {
   "codemirror_mode": {
    "name": "ipython",
    "version": 3
   },
   "file_extension": ".py",
   "mimetype": "text/x-python",
   "name": "python",
   "nbconvert_exporter": "python",
   "pygments_lexer": "ipython3",
   "version": "3.9.4"
  },
  "orig_nbformat": 2,
  "kernelspec": {
   "name": "python3",
   "display_name": "Python 3.9.4 64-bit",
   "metadata": {
    "interpreter": {
     "hash": "aee8b7b246df8f9039afb4144a1f6fd8d2ca17a180786b69acc140d282b71a49"
    }
   }
  }
 },
 "nbformat": 4,
 "nbformat_minor": 2,
 "cells": [
  {
   "cell_type": "code",
   "execution_count": 1,
   "metadata": {},
   "outputs": [],
   "source": [
    "import pandas as pd\n"
   ]
  },
  {
   "cell_type": "code",
   "execution_count": 21,
   "metadata": {},
   "outputs": [
    {
     "output_type": "stream",
     "name": "stdout",
     "text": [
      "(3420, 7)\n"
     ]
    },
    {
     "output_type": "execute_result",
     "data": {
      "text/plain": [
       "       Date                                                Car  Year    Price  \\\n",
       "0  01/07/21        Lexus GS F Sport Hybrid 450h F Sport Hybrid  2018  $56,995   \n",
       "1  01/07/21  Lexus GS F F F Used 5L V8 32V Automatic RWD Se...  2016  $52,998   \n",
       "2  01/07/21                                         Lexus GS F  2020  $69,900   \n",
       "3  01/07/21                                         Lexus GS F  2020  $73,488   \n",
       "4  01/07/21                                         Lexus GS F  2016  $49,750   \n",
       "\n",
       "      Mileage                                 Location  \\\n",
       "0         NaN  San Ramon, CA, USA(1815 mi. from 60004)   \n",
       "1         NaN     Webster, TX, USA(960 mi. from 60004)   \n",
       "2   8,366 mi.          Westmont, IL(21 mi. from 60004)   \n",
       "3   4,603 mi.         Milwaukee, WI(67 mi. from 60004)   \n",
       "4  32,739 mi.      Creve Coeur, MO(267 mi. from 60004)   \n",
       "\n",
       "                                                 URL  \n",
       "0  https://rover.ebay.com/rover/1/711-53200-19255...  \n",
       "1  https://rover.ebay.com/rover/1/711-53200-19255...  \n",
       "2  https://www.cars.com/vehicledetail/detail/8278...  \n",
       "3  https://www.cars.com/vehicledetail/detail/8250...  \n",
       "4  https://www.cars.com/vehicledetail/detail/8336...  "
      ],
      "text/html": "<div>\n<style scoped>\n    .dataframe tbody tr th:only-of-type {\n        vertical-align: middle;\n    }\n\n    .dataframe tbody tr th {\n        vertical-align: top;\n    }\n\n    .dataframe thead th {\n        text-align: right;\n    }\n</style>\n<table border=\"1\" class=\"dataframe\">\n  <thead>\n    <tr style=\"text-align: right;\">\n      <th></th>\n      <th>Date</th>\n      <th>Car</th>\n      <th>Year</th>\n      <th>Price</th>\n      <th>Mileage</th>\n      <th>Location</th>\n      <th>URL</th>\n    </tr>\n  </thead>\n  <tbody>\n    <tr>\n      <th>0</th>\n      <td>01/07/21</td>\n      <td>Lexus GS F Sport Hybrid 450h F Sport Hybrid</td>\n      <td>2018</td>\n      <td>$56,995</td>\n      <td>NaN</td>\n      <td>San Ramon, CA, USA(1815 mi. from 60004)</td>\n      <td>https://rover.ebay.com/rover/1/711-53200-19255...</td>\n    </tr>\n    <tr>\n      <th>1</th>\n      <td>01/07/21</td>\n      <td>Lexus GS F F F Used 5L V8 32V Automatic RWD Se...</td>\n      <td>2016</td>\n      <td>$52,998</td>\n      <td>NaN</td>\n      <td>Webster, TX, USA(960 mi. from 60004)</td>\n      <td>https://rover.ebay.com/rover/1/711-53200-19255...</td>\n    </tr>\n    <tr>\n      <th>2</th>\n      <td>01/07/21</td>\n      <td>Lexus GS F</td>\n      <td>2020</td>\n      <td>$69,900</td>\n      <td>8,366 mi.</td>\n      <td>Westmont, IL(21 mi. from 60004)</td>\n      <td>https://www.cars.com/vehicledetail/detail/8278...</td>\n    </tr>\n    <tr>\n      <th>3</th>\n      <td>01/07/21</td>\n      <td>Lexus GS F</td>\n      <td>2020</td>\n      <td>$73,488</td>\n      <td>4,603 mi.</td>\n      <td>Milwaukee, WI(67 mi. from 60004)</td>\n      <td>https://www.cars.com/vehicledetail/detail/8250...</td>\n    </tr>\n    <tr>\n      <th>4</th>\n      <td>01/07/21</td>\n      <td>Lexus GS F</td>\n      <td>2016</td>\n      <td>$49,750</td>\n      <td>32,739 mi.</td>\n      <td>Creve Coeur, MO(267 mi. from 60004)</td>\n      <td>https://www.cars.com/vehicledetail/detail/8336...</td>\n    </tr>\n  </tbody>\n</table>\n</div>"
     },
     "metadata": {},
     "execution_count": 21
    }
   ],
   "source": [
    "data = pd.read_csv('gsf_prices.csv')\n",
    "print(data.shape)\n",
    "data.head()"
   ]
  },
  {
   "cell_type": "code",
   "execution_count": 22,
   "metadata": {},
   "outputs": [
    {
     "output_type": "stream",
     "name": "stdout",
     "text": [
      "<class 'pandas.core.frame.DataFrame'>\nRangeIndex: 3420 entries, 0 to 3419\nData columns (total 7 columns):\n #   Column    Non-Null Count  Dtype \n---  ------    --------------  ----- \n 0   Date      3420 non-null   object\n 1   Car       3420 non-null   object\n 2   Year      3420 non-null   object\n 3   Price     3302 non-null   object\n 4   Mileage   2774 non-null   object\n 5   Location  3420 non-null   object\n 6   URL       3420 non-null   object\ndtypes: object(7)\nmemory usage: 187.2+ KB\n"
     ]
    }
   ],
   "source": [
    "data.info()"
   ]
  },
  {
   "cell_type": "code",
   "execution_count": 12,
   "metadata": {},
   "outputs": [
    {
     "output_type": "stream",
     "name": "stdout",
     "text": [
      "(3293, 7)\n"
     ]
    },
    {
     "output_type": "execute_result",
     "data": {
      "text/plain": [
       "       Date                                                Car  Year    Price  \\\n",
       "1  01/07/21  Lexus GS F F F Used 5L V8 32V Automatic RWD Se...  2016  $52,998   \n",
       "2  01/07/21                                         Lexus GS F  2020  $69,900   \n",
       "3  01/07/21                                         Lexus GS F  2020  $73,488   \n",
       "4  01/07/21                                         Lexus GS F  2016  $49,750   \n",
       "5  01/07/21                                         Lexus GS F  2016  $39,776   \n",
       "\n",
       "       Mileage                              Location  \\\n",
       "1          NaN  Webster, TX, USA(960 mi. from 60004)   \n",
       "2    8,366 mi.       Westmont, IL(21 mi. from 60004)   \n",
       "3    4,603 mi.      Milwaukee, WI(67 mi. from 60004)   \n",
       "4   32,739 mi.   Creve Coeur, MO(267 mi. from 60004)   \n",
       "5  104,487 mi.   Clarksville, IN(286 mi. from 60004)   \n",
       "\n",
       "                                                 URL  \n",
       "1  https://rover.ebay.com/rover/1/711-53200-19255...  \n",
       "2  https://www.cars.com/vehicledetail/detail/8278...  \n",
       "3  https://www.cars.com/vehicledetail/detail/8250...  \n",
       "4  https://www.cars.com/vehicledetail/detail/8336...  \n",
       "5  https://www.cars.com/vehicledetail/detail/8331...  "
      ],
      "text/html": "<div>\n<style scoped>\n    .dataframe tbody tr th:only-of-type {\n        vertical-align: middle;\n    }\n\n    .dataframe tbody tr th {\n        vertical-align: top;\n    }\n\n    .dataframe thead th {\n        text-align: right;\n    }\n</style>\n<table border=\"1\" class=\"dataframe\">\n  <thead>\n    <tr style=\"text-align: right;\">\n      <th></th>\n      <th>Date</th>\n      <th>Car</th>\n      <th>Year</th>\n      <th>Price</th>\n      <th>Mileage</th>\n      <th>Location</th>\n      <th>URL</th>\n    </tr>\n  </thead>\n  <tbody>\n    <tr>\n      <th>1</th>\n      <td>01/07/21</td>\n      <td>Lexus GS F F F Used 5L V8 32V Automatic RWD Se...</td>\n      <td>2016</td>\n      <td>$52,998</td>\n      <td>NaN</td>\n      <td>Webster, TX, USA(960 mi. from 60004)</td>\n      <td>https://rover.ebay.com/rover/1/711-53200-19255...</td>\n    </tr>\n    <tr>\n      <th>2</th>\n      <td>01/07/21</td>\n      <td>Lexus GS F</td>\n      <td>2020</td>\n      <td>$69,900</td>\n      <td>8,366 mi.</td>\n      <td>Westmont, IL(21 mi. from 60004)</td>\n      <td>https://www.cars.com/vehicledetail/detail/8278...</td>\n    </tr>\n    <tr>\n      <th>3</th>\n      <td>01/07/21</td>\n      <td>Lexus GS F</td>\n      <td>2020</td>\n      <td>$73,488</td>\n      <td>4,603 mi.</td>\n      <td>Milwaukee, WI(67 mi. from 60004)</td>\n      <td>https://www.cars.com/vehicledetail/detail/8250...</td>\n    </tr>\n    <tr>\n      <th>4</th>\n      <td>01/07/21</td>\n      <td>Lexus GS F</td>\n      <td>2016</td>\n      <td>$49,750</td>\n      <td>32,739 mi.</td>\n      <td>Creve Coeur, MO(267 mi. from 60004)</td>\n      <td>https://www.cars.com/vehicledetail/detail/8336...</td>\n    </tr>\n    <tr>\n      <th>5</th>\n      <td>01/07/21</td>\n      <td>Lexus GS F</td>\n      <td>2016</td>\n      <td>$39,776</td>\n      <td>104,487 mi.</td>\n      <td>Clarksville, IN(286 mi. from 60004)</td>\n      <td>https://www.cars.com/vehicledetail/detail/8331...</td>\n    </tr>\n  </tbody>\n</table>\n</div>"
     },
     "metadata": {},
     "execution_count": 12
    }
   ],
   "source": [
    "# pull out the non-\"GS F\" entries (i.e. the F-Sport trims)\n",
    "data = data[data[\"Car\"].str.contains(\"Sport\") == False]\n",
    "print(data.shape)\n",
    "data.head()"
   ]
  },
  {
   "cell_type": "code",
   "execution_count": 20,
   "metadata": {},
   "outputs": [
    {
     "output_type": "error",
     "ename": "TypeError",
     "evalue": "'NoneType' object is not subscriptable",
     "traceback": [
      "\u001b[0;31m---------------------------------------------------------------------------\u001b[0m",
      "\u001b[0;31mTypeError\u001b[0m                                 Traceback (most recent call last)",
      "\u001b[0;32m<ipython-input-20-4958413c9e0e>\u001b[0m in \u001b[0;36m<module>\u001b[0;34m\u001b[0m\n\u001b[1;32m      1\u001b[0m \u001b[0;31m# store price as integer\u001b[0m\u001b[0;34m\u001b[0m\u001b[0;34m\u001b[0m\u001b[0;34m\u001b[0m\u001b[0m\n\u001b[0;32m----> 2\u001b[0;31m \u001b[0mdata\u001b[0m\u001b[0;34m[\u001b[0m\u001b[0;34m\"Price\"\u001b[0m\u001b[0;34m]\u001b[0m \u001b[0;34m=\u001b[0m \u001b[0mdata\u001b[0m\u001b[0;34m[\u001b[0m\u001b[0;34m\"Price\"\u001b[0m\u001b[0;34m]\u001b[0m\u001b[0;34m.\u001b[0m\u001b[0mreplace\u001b[0m\u001b[0;34m(\u001b[0m\u001b[0;34m'$'\u001b[0m\u001b[0;34m,\u001b[0m \u001b[0;34m''\u001b[0m\u001b[0;34m)\u001b[0m\u001b[0;34m\u001b[0m\u001b[0;34m\u001b[0m\u001b[0m\n\u001b[0m\u001b[1;32m      3\u001b[0m \u001b[0mdata\u001b[0m\u001b[0;34m.\u001b[0m\u001b[0mhead\u001b[0m\u001b[0;34m(\u001b[0m\u001b[0;34m)\u001b[0m\u001b[0;34m\u001b[0m\u001b[0;34m\u001b[0m\u001b[0m\n",
      "\u001b[0;31mTypeError\u001b[0m: 'NoneType' object is not subscriptable"
     ]
    }
   ],
   "source": [
    "# store price as integer\n",
    "data[\"Price\"] = data[\"Price\"].replace('$', '')\n",
    "data.head()"
   ]
  },
  {
   "cell_type": "code",
   "execution_count": null,
   "metadata": {},
   "outputs": [],
   "source": []
  }
 ]
}